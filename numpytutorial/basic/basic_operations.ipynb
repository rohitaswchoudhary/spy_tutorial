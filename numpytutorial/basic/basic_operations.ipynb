{
 "cells": [
  {
   "cell_type": "code",
   "execution_count": 3,
   "metadata": {},
   "outputs": [
    {
     "output_type": "error",
     "ename": "ModuleNotFoundError",
     "evalue": "No module named 'numpy'",
     "traceback": [
      "\u001b[1;31m---------------------------------------------------------------------------\u001b[0m",
      "\u001b[1;31mModuleNotFoundError\u001b[0m                       Traceback (most recent call last)",
      "\u001b[1;32m<ipython-input-3-0aa0b027fcb6>\u001b[0m in \u001b[0;36m<module>\u001b[1;34m\u001b[0m\n\u001b[1;32m----> 1\u001b[1;33m \u001b[1;32mimport\u001b[0m \u001b[0mnumpy\u001b[0m \u001b[1;32mas\u001b[0m \u001b[0mnp\u001b[0m\u001b[1;33m\u001b[0m\u001b[1;33m\u001b[0m\u001b[0m\n\u001b[0m",
      "\u001b[1;31mModuleNotFoundError\u001b[0m: No module named 'numpy'"
     ]
    }
   ],
   "source": [
    "import numpy as np"
   ]
  },
  {
   "cell_type": "code",
   "execution_count": 5,
   "metadata": {},
   "outputs": [
    {
     "name": "stdout",
     "output_type": "stream",
     "text": [
      "[20 30 40 50]\n",
      "[0 1 2 3]\n"
     ]
    }
   ],
   "source": [
    "a=np.array([20,30,40,50])\n",
    "b=np.arange(4)\n",
    "print(a)\n",
    "print(b)"
   ]
  },
  {
   "cell_type": "code",
   "execution_count": 4,
   "metadata": {},
   "outputs": [
    {
     "name": "stdout",
     "output_type": "stream",
     "text": [
      "[20 29 38 47]\n"
     ]
    }
   ],
   "source": [
    "c=a-b\n",
    "print(c)"
   ]
  },
  {
   "cell_type": "code",
   "execution_count": 15,
   "metadata": {},
   "outputs": [
    {
     "name": "stdout",
     "output_type": "stream",
     "text": [
      "[140 141 142 143]\n",
      "[0 1 4 9]\n"
     ]
    }
   ],
   "source": [
    "d=sum(a,b)\n",
    "print(d)\n",
    "e=b**2\n",
    "print(e)"
   ]
  },
  {
   "cell_type": "code",
   "execution_count": 8,
   "metadata": {},
   "outputs": [
    {
     "name": "stdout",
     "output_type": "stream",
     "text": [
      "[ 9.12945251 -9.88031624  7.4511316  -2.62374854]\n"
     ]
    }
   ],
   "source": [
    "f=10*np.sin(a)\n",
    "print(f)"
   ]
  },
  {
   "cell_type": "code",
   "execution_count": 10,
   "metadata": {},
   "outputs": [
    {
     "name": "stdout",
     "output_type": "stream",
     "text": [
      "[20 30 40 50]\n",
      "[ True  True False False]\n"
     ]
    }
   ],
   "source": [
    "print(a)\n",
    "print(a<35)"
   ]
  },
  {
   "cell_type": "code",
   "execution_count": 11,
   "metadata": {},
   "outputs": [
    {
     "name": "stdout",
     "output_type": "stream",
     "text": [
      "[[2 0]\n",
      " [0 4]]\n"
     ]
    }
   ],
   "source": [
    "A=np.array([[1,1],[0,1]])\n",
    "B=np.array([[2,0],[3,4]])\n",
    "C=A*B                                             # element-wise product\n",
    "print(C)\n"
   ]
  },
  {
   "cell_type": "code",
   "execution_count": 12,
   "metadata": {},
   "outputs": [
    {
     "name": "stdout",
     "output_type": "stream",
     "text": [
      "[[5 4]\n",
      " [3 4]]\n"
     ]
    }
   ],
   "source": [
    "print(A@B)                       #Matrix product\n"
   ]
  },
  {
   "cell_type": "code",
   "execution_count": 13,
   "metadata": {},
   "outputs": [
    {
     "name": "stdout",
     "output_type": "stream",
     "text": [
      "[[5 4]\n",
      " [3 4]]\n"
     ]
    }
   ],
   "source": [
    "print(A.dot(B))                 # dot product"
   ]
  },
  {
   "cell_type": "code",
   "execution_count": 13,
   "metadata": {},
   "outputs": [
    {
     "name": "stdout",
     "output_type": "stream",
     "text": [
      "[[3 3 3]\n",
      " [3 3 3]]\n"
     ]
    }
   ],
   "source": [
    "# some operations such as += and *= act in place to modify an existing array rather than create a new one. \n",
    "\n",
    "rg=np.random.default_rng(1)\n",
    "g=np.ones((2,3),dtype=int)\n",
    "\n",
    "h= rg.random((2,3))\n",
    "g*=3\n",
    "print(g)"
   ]
  },
  {
   "cell_type": "code",
   "execution_count": 14,
   "metadata": {},
   "outputs": [
    {
     "name": "stdout",
     "output_type": "stream",
     "text": [
      "[[3.51182162 3.9504637  3.14415961]\n",
      " [3.94864945 3.31183145 3.42332645]]\n"
     ]
    }
   ],
   "source": [
    "h+=g\n",
    "print(h)"
   ]
  },
  {
   "cell_type": "code",
   "execution_count": 26,
   "metadata": {},
   "outputs": [
    {
     "name": "stdout",
     "output_type": "stream",
     "text": [
      "float64\n",
      "[0.         3.14159265 6.28318531]\n",
      "complex128\n",
      "[ 1.+0.0000000e+00j -1.+1.2246468e-16j  1.-2.4492936e-16j]\n"
     ]
    }
   ],
   "source": [
    "#UPCASTING\n",
    "from numpy import pi\n",
    "\n",
    "i=np.ones(3,dtype=np.int32)\n",
    "j=np.linspace(0,2*pi,3)\n",
    "print(j.dtype.name)\n",
    "print(j)\n",
    "\n",
    "k=np.exp(j*1j)\n",
    "print(k.dtype.name)\n",
    "print(k)"
   ]
  },
  {
   "cell_type": "code",
   "execution_count": 30,
   "metadata": {},
   "outputs": [
    {
     "name": "stdout",
     "output_type": "stream",
     "text": [
      "[[0.96165719 0.72478994 0.54122686]\n",
      " [0.2768912  0.16065201 0.96992541]]\n",
      "3.635142616021385\n",
      "0.16065200877512686\n",
      "0.9699254132161326\n"
     ]
    }
   ],
   "source": [
    "#URINARY OPERATIONS:\n",
    "\n",
    "l=rg.random((2,3))\n",
    "print(l)\n",
    "print(l.sum())\n",
    "print(l.min())\n",
    "print(l.max())"
   ]
  },
  {
   "cell_type": "code",
   "execution_count": 11,
   "metadata": {},
   "outputs": [
    {
     "name": "stdout",
     "output_type": "stream",
     "text": [
      "[[ 0  1  2  3]\n",
      " [ 4  5  6  7]\n",
      " [ 8  9 10 11]]\n",
      "         /////////////////////               \n",
      "[12 15 18 21]\n",
      "         /////////////////////               \n",
      "[0 4 8]\n",
      "         /////////////////////               \n",
      "[[ 0  1  3  6]\n",
      " [ 4  9 15 22]\n",
      " [ 8 17 27 38]]\n",
      "         /////////////////////               \n",
      "[[ 0  1  2  3]\n",
      " [ 4  6  8 10]\n",
      " [12 15 18 21]]\n"
     ]
    }
   ],
   "source": [
    "# By specifying the axix parameter you can apply an operation along the specified axis of an array.\n",
    "\n",
    "m=np.arange(12).reshape(3,4)\n",
    "print(m)\n",
    "print(\"         /////////////////////               \")\n",
    "print(m.sum(axis=0))\n",
    "print(\"         /////////////////////               \")\n",
    "\n",
    "print(m.min(axis=1))\n",
    "print(\"         /////////////////////               \")\n",
    "\n",
    "print(m.cumsum(axis=1))                                       #cumulative sum along each row.\n",
    "print(\"         /////////////////////               \")\n",
    "\n",
    "print(m.cumsum(axis=0))\n",
    "\n"
   ]
  },
  {
   "cell_type": "code",
   "execution_count": 15,
   "metadata": {},
   "outputs": [
    {
     "name": "stdout",
     "output_type": "stream",
     "text": [
      "[0 1 2]\n",
      "         /////////////////////               \n",
      "[1.         2.71828183 7.3890561 ]\n",
      "[0.         1.         1.41421356]\n",
      "[2 1 4]\n",
      "[2 2 6]\n"
     ]
    }
   ],
   "source": [
    "# UNIVERSAL FUNCTIONS\n",
    "\n",
    "n=np.arange(3)\n",
    "print(n)\n",
    "print(\"         /////////////////////               \")\n",
    "print(np.exp(n))\n",
    "print(np.sqrt(n))\n",
    "p=np.array([2,1,4])\n",
    "print(p)\n",
    "print(np.add(n,p))"
   ]
  },
  {
   "cell_type": "code",
   "execution_count": 2,
   "metadata": {},
   "outputs": [
    {
     "output_type": "error",
     "ename": "ModuleNotFoundError",
     "evalue": "No module named 'numpy'",
     "traceback": [
      "\u001b[1;31m---------------------------------------------------------------------------\u001b[0m",
      "\u001b[1;31mModuleNotFoundError\u001b[0m                       Traceback (most recent call last)",
      "\u001b[1;32m<ipython-input-2-89b74eb7125b>\u001b[0m in \u001b[0;36m<module>\u001b[1;34m\u001b[0m\n\u001b[0;32m      1\u001b[0m \u001b[1;32mimport\u001b[0m \u001b[0msys\u001b[0m\u001b[1;33m\u001b[0m\u001b[1;33m\u001b[0m\u001b[0m\n\u001b[1;32m----> 2\u001b[1;33m \u001b[1;32mimport\u001b[0m \u001b[0mnumpy\u001b[0m \u001b[1;32mas\u001b[0m \u001b[0mnp\u001b[0m\u001b[1;33m\u001b[0m\u001b[1;33m\u001b[0m\u001b[0m\n\u001b[0m\u001b[0;32m      3\u001b[0m \u001b[0mN\u001b[0m \u001b[1;33m=\u001b[0m \u001b[0mint\u001b[0m\u001b[1;33m(\u001b[0m\u001b[0msys\u001b[0m\u001b[1;33m.\u001b[0m\u001b[0margv\u001b[0m\u001b[1;33m[\u001b[0m\u001b[1;36m1\u001b[0m\u001b[1;33m]\u001b[0m\u001b[1;33m)\u001b[0m\u001b[1;33m\u001b[0m\u001b[1;33m\u001b[0m\u001b[0m\n\u001b[0;32m      4\u001b[0m \u001b[0mx\u001b[0m \u001b[1;33m=\u001b[0m \u001b[0mnp\u001b[0m\u001b[1;33m.\u001b[0m\u001b[0mzeros\u001b[0m\u001b[1;33m(\u001b[0m\u001b[0mN\u001b[0m\u001b[1;33m+\u001b[0m\u001b[1;36m1\u001b[0m\u001b[1;33m,\u001b[0m \u001b[0mint\u001b[0m\u001b[1;33m)\u001b[0m\u001b[1;33m\u001b[0m\u001b[1;33m\u001b[0m\u001b[0m\n\u001b[0;32m      5\u001b[0m \u001b[0mx\u001b[0m\u001b[1;33m[\u001b[0m\u001b[1;36m0\u001b[0m\u001b[1;33m]\u001b[0m \u001b[1;33m=\u001b[0m \u001b[1;36m1\u001b[0m\u001b[1;33m\u001b[0m\u001b[1;33m\u001b[0m\u001b[0m\n",
      "\u001b[1;31mModuleNotFoundError\u001b[0m: No module named 'numpy'"
     ]
    }
   ],
   "source": [
    "import sys\n",
    "import numpy as np\n",
    "N = int(sys.argv[1])\n",
    "x = np.zeros(N+1, int)\n",
    "x[0] = 1\n",
    "x[1] = 1\n",
    "for n in range(2, N+1):\n",
    "    x[n] = x[n-1] + x[n-2]\n",
    "    print (n, x[n])"
   ]
  },
  {
   "cell_type": "code",
   "execution_count": null,
   "metadata": {},
   "outputs": [],
   "source": []
  }
 ],
 "metadata": {
  "kernelspec": {
   "name": "python393jvsc74a57bd0bed2b05627c9bfce4c7c258f3fbe4141cf0c6cea887d285c5a7e5f8c05c932be",
   "display_name": "Python 3.9.3 64-bit"
  },
  "language_info": {
   "codemirror_mode": {
    "name": "ipython",
    "version": 3
   },
   "file_extension": ".py",
   "mimetype": "text/x-python",
   "name": "python",
   "nbconvert_exporter": "python",
   "pygments_lexer": "ipython3",
   "version": "3.9.3"
  },
  "metadata": {
   "interpreter": {
    "hash": "bed2b05627c9bfce4c7c258f3fbe4141cf0c6cea887d285c5a7e5f8c05c932be"
   }
  }
 },
 "nbformat": 4,
 "nbformat_minor": 4
}