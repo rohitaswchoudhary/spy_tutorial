{
 "metadata": {
  "language_info": {
   "codemirror_mode": {
    "name": "ipython",
    "version": 3
   },
   "file_extension": ".py",
   "mimetype": "text/x-python",
   "name": "python",
   "nbconvert_exporter": "python",
   "pygments_lexer": "ipython3",
   "version": "3.8.5-final"
  },
  "orig_nbformat": 2,
  "kernelspec": {
   "name": "python3",
   "display_name": "Python 3",
   "language": "python"
  }
 },
 "nbformat": 4,
 "nbformat_minor": 2,
 "cells": [
  {
   "cell_type": "code",
   "execution_count": 33,
   "metadata": {},
   "outputs": [
    {
     "output_type": "stream",
     "name": "stdout",
     "text": [
      "7.38905609893065\n"
     ]
    }
   ],
   "source": [
    "import math\n",
    "print(math.exp(2))       #  e**2\n"
   ]
  },
  {
   "cell_type": "code",
   "execution_count": 34,
   "metadata": {},
   "outputs": [
    {
     "output_type": "stream",
     "name": "stdout",
     "text": [
      "7.0\n"
     ]
    }
   ],
   "source": [
    "# finding taylor series of e**x.\n",
    "\n",
    "x = 2\n",
    "e_to_2 = x**0/math.factorial(0) + x**1/math.factorial(1) + x**2/math.factorial(2) + x**3/math.factorial(3) + x**4/math.factorial(4)\n",
    "print(e_to_2)"
   ]
  },
  {
   "cell_type": "code",
   "execution_count": 35,
   "metadata": {},
   "outputs": [
    {
     "output_type": "stream",
     "name": "stdout",
     "text": [
      "7.0\n"
     ]
    }
   ],
   "source": [
    "# using for loop to find taylor series.\n",
    "\n",
    "x = 2\n",
    "e_to_2 = 0\n",
    "for i in range(5):\n",
    "    e_to_2 += x**i/math.factorial(i)\n",
    "    \n",
    "print(e_to_2)"
   ]
  },
  {
   "cell_type": "code",
   "execution_count": 36,
   "metadata": {},
   "outputs": [
    {
     "output_type": "stream",
     "name": "stdout",
     "text": [
      "7.3887125220458545\n"
     ]
    }
   ],
   "source": [
    "# If we increase the number of times the for loop runs, we increase the number of terms in the Taylor Series expansion. Let's try 10 terms. Note how the line for i in range(10): now includes 10 passed to the range() function.\n",
    "\n",
    "x = 2\n",
    "e_to_2 = 0\n",
    "for i in range(10):\n",
    "    e_to_2 += x**i/math.factorial(i)\n",
    "    \n",
    "print(e_to_2)"
   ]
  },
  {
   "cell_type": "code",
   "execution_count": 37,
   "metadata": {},
   "outputs": [
    {
     "output_type": "stream",
     "name": "stdout",
     "text": [
      "the output after 0 terms is  1.0\nthe output after 1 terms is  3.0\nthe output after 2 terms is  5.0\nthe output after 3 terms is  6.333333333333333\nthe output after 4 terms is  7.0\nthe output after 5 terms is  7.266666666666667\nthe output after 6 terms is  7.355555555555555\nthe output after 7 terms is  7.3809523809523805\nthe output after 8 terms is  7.387301587301587\nthe output after 9 terms is  7.3887125220458545\n7.3887125220458545\n"
     ]
    }
   ],
   "source": [
    "# Refactor the for loop into a function.\n",
    "\n",
    "def func_e_to_2(n):\n",
    "    x = 2\n",
    "    e_to_2 = 0\n",
    "    for i in range(n):\n",
    "        e_to_2 += x**i/math.factorial(i)\n",
    "        print(f'the output after {i} terms is ', e_to_2)\n",
    "    \n",
    "    return e_to_2\n",
    "\n",
    "\n",
    "out = func_e_to_2(10)\n",
    "print(out)   \n"
   ]
  },
  {
   "cell_type": "code",
   "execution_count": 40,
   "metadata": {},
   "outputs": [
    {
     "output_type": "stream",
     "name": "stdout",
     "text": [
      "147.60384850489015\n148.4131591025766\n"
     ]
    }
   ],
   "source": [
    "# We can make our function more general by setting x (the number that e gets raised to) as an input argument. \n",
    "\n",
    "def func_e(x, n):\n",
    "    e_approx = 0\n",
    "    for i in range(n):\n",
    "        e_approx += x**i/math.factorial(i)\n",
    "\n",
    "    return e_approx\n",
    "out = func_e(5,12)\n",
    "print(out)\n",
    "\n",
    "print(math.exp(5))"
   ]
  },
  {
   "cell_type": "code",
   "execution_count": 46,
   "metadata": {},
   "outputs": [
    {
     "output_type": "stream",
     "name": "stdout",
     "text": [
      "29 terms: Taylor Series approx= 148.41315910255133, \nexp calc= 148.4131591025766, \n\t\nerror = 2.5266899683629163e-11\n"
     ]
    }
   ],
   "source": [
    "# Use a for loop to calculate the difference between the Taylor Series expansion and Python's exp() function.\n",
    "\n",
    "x = 5\n",
    "for i in range(1,50):\n",
    "    e_approx = func_e(x,i)\n",
    "    e_exp = math.exp(x)\n",
    "    e_error = abs(e_approx - e_exp)\n",
    "    if e_error < 0.0000000001:\n",
    "        break\n",
    "        \n",
    "print(f'{i} terms: Taylor Series approx= {e_approx}, \\nexp calc= {e_exp}, \\n\\nerror = {e_error}')"
   ]
  },
  {
   "cell_type": "code",
   "execution_count": 48,
   "metadata": {},
   "outputs": [
    {
     "output_type": "stream",
     "name": "stdout",
     "text": [
      "1 terms: Taylor Series approx= 1.0, exp calc= 148.4131591025766, error = 147.4131591025766\n2 terms: Taylor Series approx= 6.0, exp calc= 148.4131591025766, error = 142.4131591025766\n3 terms: Taylor Series approx= 18.5, exp calc= 148.4131591025766, error = 129.9131591025766\n4 terms: Taylor Series approx= 39.33333333333333, exp calc= 148.4131591025766, error = 109.07982576924327\n5 terms: Taylor Series approx= 65.375, exp calc= 148.4131591025766, error = 83.0381591025766\n6 terms: Taylor Series approx= 91.41666666666667, exp calc= 148.4131591025766, error = 56.99649243590993\n7 terms: Taylor Series approx= 113.11805555555556, exp calc= 148.4131591025766, error = 35.29510354702104\n8 terms: Taylor Series approx= 128.61904761904762, exp calc= 148.4131591025766, error = 19.79411148352898\n9 terms: Taylor Series approx= 138.30716765873015, exp calc= 148.4131591025766, error = 10.105991443846449\n10 terms: Taylor Series approx= 143.68945656966488, exp calc= 148.4131591025766, error = 4.723702532911716\n11 terms: Taylor Series approx= 146.38060102513225, exp calc= 148.4131591025766, error = 2.0325580774443495\n12 terms: Taylor Series approx= 147.60384850489015, exp calc= 148.4131591025766, error = 0.8093105976864479\n13 terms: Taylor Series approx= 148.1135349547893, exp calc= 148.4131591025766, error = 0.2996241477873127\n14 terms: Taylor Series approx= 148.3095682047505, exp calc= 148.4131591025766, error = 0.10359089782610909\n15 terms: Taylor Series approx= 148.37958007973663, exp calc= 148.4131591025766, error = 0.03357902283997305\n16 terms: Taylor Series approx= 148.40291737139867, exp calc= 148.4131591025766, error = 0.010241731177927704\n17 terms: Taylor Series approx= 148.41021027504306, exp calc= 148.4131591025766, error = 0.002948827533543863\n18 terms: Taylor Series approx= 148.41235524670316, exp calc= 148.4131591025766, error = 0.0008038558734426715\n19 terms: Taylor Series approx= 148.4129510721643, exp calc= 148.4131591025766, error = 0.00020803041229555674\n"
     ]
    }
   ],
   "source": [
    "x = 5\n",
    "for i in range(1,20):\n",
    "    e_approx = func_e(x,i)\n",
    "    e_exp = math.exp(x)\n",
    "    e_error = abs(e_approx - e_exp)\n",
    "    print(f'{i} terms: Taylor Series approx= {e_approx}, exp calc= {e_exp}, error = {e_error}')"
   ]
  },
  {
   "cell_type": "code",
   "execution_count": null,
   "metadata": {},
   "outputs": [],
   "source": []
  }
 ]
}