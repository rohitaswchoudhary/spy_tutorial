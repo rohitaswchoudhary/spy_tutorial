{
 "metadata": {
  "language_info": {
   "codemirror_mode": {
    "name": "ipython",
    "version": 3
   },
   "file_extension": ".py",
   "mimetype": "text/x-python",
   "name": "python",
   "nbconvert_exporter": "python",
   "pygments_lexer": "ipython3",
   "version": "3.8.5-final"
  },
  "orig_nbformat": 2,
  "kernelspec": {
   "name": "python3",
   "display_name": "Python 3",
   "language": "python"
  }
 },
 "nbformat": 4,
 "nbformat_minor": 2,
 "cells": [
  {
   "cell_type": "code",
   "execution_count": 1,
   "metadata": {},
   "outputs": [],
   "source": [
    "#importing modules \n",
    "import json \n",
    "import requests \n",
    "import pandas as pd \n",
    "import matplotlib.pyplot as plt\n"
   ]
  },
  {
   "source": [
    "Function for getting JSON data from API and Visualization of Data\n",
    "\n"
   ],
   "cell_type": "markdown",
   "metadata": {}
  },
  {
   "cell_type": "code",
   "execution_count": 7,
   "metadata": {},
   "outputs": [],
   "source": [
    "#storing the url in the form of string \n",
    "url=\"https://api.covid19india.org/state_district_wise.json\"\n",
    "\n",
    "#function to get data from api \n",
    "def casesData(): \n",
    "\t#getting the json data by calling api \n",
    "\tdata = ((requests.get(url)).json()) \n",
    "\tstates = []\n"
   ]
  },
  {
   "source": [
    "Getting State Names available in JSON Data\n",
    "\n"
   ],
   "cell_type": "markdown",
   "metadata": {}
  },
  {
   "cell_type": "code",
   "execution_count": 10,
   "metadata": {},
   "outputs": [
    {
     "output_type": "execute_result",
     "data": {
      "text/plain": [
       "' \\n0 State Unassigned \\n1 Andaman and Nicobar Islands \\n2 Andhra Pradesh \\n3 Arunachal Pradesh \\n4 Assam \\n5 Bihar \\n6 Chandigarh \\n7 Chhattisgarh \\n8 Delhi \\n9 Dadra and Nagar Haveli and Daman and Diu \\n10 Goa \\n11 Gujarat \\n12 Himachal Pradesh \\n13 Haryana \\n14 Jharkhand \\n15 Jammu and Kashmir \\n16 Karnataka \\n17 Kerala \\n18 Ladakh \\n19 Lakshadweep \\n20 Maharashtra \\n21 Meghalaya \\n22 Manipur \\n23 Madhya Pradesh \\n24 Mizoram \\n25 Nagaland \\n26 Odisha \\n27 Punjab \\n28 Puducherry \\n29 Rajasthan \\n30 Sikkim \\n31 Telangana \\n32 Tamil Nadu \\n33 Tripura \\n34 Uttar Pradesh \\n35 Uttarakhand \\n36 West Bengal \\n'"
      ]
     },
     "metadata": {},
     "execution_count": 10
    }
   ],
   "source": [
    "# getting statewise data \n",
    "states=[]\n",
    "for state in states: \n",
    "\t\tf = (data[state]['districtData']) \n",
    "# states data available in JSON Data \n",
    "''' \n",
    "0 State Unassigned \n",
    "1 Andaman and Nicobar Islands \n",
    "2 Andhra Pradesh \n",
    "3 Arunachal Pradesh \n",
    "4 Assam \n",
    "5 Bihar \n",
    "6 Chandigarh \n",
    "7 Chhattisgarh \n",
    "8 Delhi \n",
    "9 Dadra and Nagar Haveli and Daman and Diu \n",
    "10 Goa \n",
    "11 Gujarat \n",
    "12 Himachal Pradesh \n",
    "13 Haryana \n",
    "14 Jharkhand \n",
    "15 Jammu and Kashmir \n",
    "16 Karnataka \n",
    "17 Kerala \n",
    "18 Ladakh \n",
    "19 Lakshadweep \n",
    "20 Maharashtra \n",
    "21 Meghalaya \n",
    "22 Manipur \n",
    "23 Madhya Pradesh \n",
    "24 Mizoram \n",
    "25 Nagaland \n",
    "26 Odisha \n",
    "27 Punjab \n",
    "28 Puducherry \n",
    "29 Rajasthan \n",
    "30 Sikkim \n",
    "31 Telangana \n",
    "32 Tamil Nadu \n",
    "33 Tripura \n",
    "34 Uttar Pradesh \n",
    "35 Uttarakhand \n",
    "36 West Bengal \n",
    "'''\n"
   ]
  },
  {
   "cell_type": "code",
   "execution_count": 21,
   "metadata": {},
   "outputs": [
    {
     "output_type": "error",
     "ename": "IndentationError",
     "evalue": "unindent does not match any outer indentation level (<tokenize>, line 5)",
     "traceback": [
      "\u001b[1;36m  File \u001b[1;32m\"<tokenize>\"\u001b[1;36m, line \u001b[1;32m5\u001b[0m\n\u001b[1;33m    global tc\u001b[0m\n\u001b[1;37m    ^\u001b[0m\n\u001b[1;31mIndentationError\u001b[0m\u001b[1;31m:\u001b[0m unindent does not match any outer indentation level\n"
     ]
    }
   ],
   "source": [
    "# getting statewise data \n",
    "global tc\n",
    "for state in states: \n",
    "\tf = (data[state]['districtData']) \n",
    "    global tc\n",
    "\ttc = [] \n",
    "\tdis = [] \n",
    "\tact, con, dea, rec = 0, 0, 0, 0\n",
    "\n",
    "\t# getting districtwise data \n",
    "\tfor key in (data[state]['districtData']).items(): \n",
    "\t\tdistrict = key[0] \n",
    "\t\tdis.append(district) \n",
    "\t\tactive = data[state]['districtData'][district]['active'] \n",
    "\t\tconfirmed = data[state]['districtData'][district]['confirmed'] \n",
    "\t\tdeaths = data[state]['districtData'][district]['deceased'] \n",
    "\t\trecovered = data[state]['districtData'][district]['recovered'] \n",
    "\t\tif district == 'Unknown': \n",
    "\t\t\tactive, confirmed, deaths, recovered = 0, 0, 0, 0\n",
    "\t\ttc.append([active, confirmed, deaths, recovered]) \n",
    "\t\tact = act + active \n",
    "\t\tcon = con + confirmed \n",
    "\t\tdea = dea + deaths \n",
    "\t\trec = rec + recovered \n",
    "\ttc.append([act, con, dea, rec]) \n",
    "\tdis.append('Total') \n",
    "\tparameters = ['Active', 'Confirmed', 'Deaths', 'Recovered'] \n"
   ]
  },
  {
   "cell_type": "code",
   "execution_count": 19,
   "metadata": {},
   "outputs": [
    {
     "output_type": "error",
     "ename": "NameError",
     "evalue": "name 'tc' is not defined",
     "traceback": [
      "\u001b[1;31m---------------------------------------------------------------------------\u001b[0m",
      "\u001b[1;31mNameError\u001b[0m                                 Traceback (most recent call last)",
      "\u001b[1;32m<ipython-input-19-81d4f98bd1d7>\u001b[0m in \u001b[0;36m<module>\u001b[1;34m\u001b[0m\n\u001b[0;32m      1\u001b[0m \u001b[1;31m# creating a dataframe\u001b[0m\u001b[1;33m\u001b[0m\u001b[1;33m\u001b[0m\u001b[1;33m\u001b[0m\u001b[0m\n\u001b[1;32m----> 2\u001b[1;33m \u001b[0mdf\u001b[0m \u001b[1;33m=\u001b[0m \u001b[0mpd\u001b[0m\u001b[1;33m.\u001b[0m\u001b[0mDataFrame\u001b[0m\u001b[1;33m(\u001b[0m\u001b[0mtc\u001b[0m\u001b[1;33m,\u001b[0m \u001b[0mdis\u001b[0m\u001b[1;33m,\u001b[0m \u001b[0mparameters\u001b[0m\u001b[1;33m)\u001b[0m\u001b[1;33m\u001b[0m\u001b[1;33m\u001b[0m\u001b[0m\n\u001b[0m\u001b[0;32m      3\u001b[0m \u001b[0mprint\u001b[0m\u001b[1;33m(\u001b[0m\u001b[1;34m'COVID - 19'\u001b[0m\u001b[1;33m,\u001b[0m \u001b[0mstate\u001b[0m\u001b[1;33m,\u001b[0m \u001b[1;34m'District Wise Data'\u001b[0m\u001b[1;33m)\u001b[0m\u001b[1;33m\u001b[0m\u001b[1;33m\u001b[0m\u001b[0m\n\u001b[0;32m      4\u001b[0m \u001b[0mprint\u001b[0m\u001b[1;33m(\u001b[0m\u001b[0mdf\u001b[0m\u001b[1;33m)\u001b[0m\u001b[1;33m\u001b[0m\u001b[1;33m\u001b[0m\u001b[0m\n",
      "\u001b[1;31mNameError\u001b[0m: name 'tc' is not defined"
     ]
    }
   ],
   "source": [
    "# creating a dataframe \n",
    "df = pd.DataFrame(tc, dis, parameters) \n",
    "print('COVID - 19', state, 'District Wise Data') \n",
    "print(df) \n"
   ]
  },
  {
   "cell_type": "code",
   "execution_count": null,
   "metadata": {},
   "outputs": [],
   "source": []
  }
 ]
}