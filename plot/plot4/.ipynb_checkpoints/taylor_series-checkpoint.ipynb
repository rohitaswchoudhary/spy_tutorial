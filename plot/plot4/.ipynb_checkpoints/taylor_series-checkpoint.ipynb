{
 "metadata": {
  "language_info": {
   "codemirror_mode": {
    "name": "ipython",
    "version": 3
   },
   "file_extension": ".py",
   "mimetype": "text/x-python",
   "name": "python",
   "nbconvert_exporter": "python",
   "pygments_lexer": "ipython3",
   "version": "3.9.3"
  },
  "orig_nbformat": 2,
  "kernelspec": {
   "name": "python393jvsc74a57bd06bd7557de77ef567f6796da7b7ea237e6ddf8fdf80bd798812bb4ab65fc4590b",
   "display_name": "Python 3.9.3 64-bit ('spy': venv)"
  }
 },
 "nbformat": 4,
 "nbformat_minor": 2,
 "cells": [
  {
   "cell_type": "code",
   "execution_count": null,
   "metadata": {},
   "outputs": [],
   "source": [
    "import numpy as np \n",
    "import matplotlib.plt as plot\n",
    "print(\"rohit\")"
   ]
  }
 ]
}