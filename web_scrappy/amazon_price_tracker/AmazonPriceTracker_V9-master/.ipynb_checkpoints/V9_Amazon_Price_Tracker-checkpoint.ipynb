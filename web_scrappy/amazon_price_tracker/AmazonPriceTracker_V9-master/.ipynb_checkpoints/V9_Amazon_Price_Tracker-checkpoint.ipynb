{
 "cells": [
  {
   "cell_type": "markdown",
   "metadata": {},
   "source": [
    "# Amazon Price Tracker"
   ]
  },
  {
   "cell_type": "markdown",
   "metadata": {},
   "source": [
    "**Data Science with Raghav**"
   ]
  },
  {
   "cell_type": "markdown",
   "metadata": {},
   "source": [
    "### Price Tracking on Amazon"
   ]
  },
  {
   "cell_type": "markdown",
   "metadata": {},
   "source": [
    "This notebook demonstrates how we can create an automated python script to autmatically alert us whenever there is a price change in the item we are interested in. In addition to alerts this script will also store the price history in a pandas DataFrame for further analysis."
   ]
  },
  {
   "cell_type": "markdown",
   "metadata": {},
   "source": [
    "For this we will need to scrape data from Amazon using BeautifulSoup library."
   ]
  },
  {
   "cell_type": "markdown",
   "metadata": {},
   "source": [
    "**Dependencies**"
   ]
  },
  {
   "cell_type": "code",
   "execution_count": 27,
   "metadata": {},
   "outputs": [],
   "source": [
    "from bs4 import BeautifulSoup\n",
    "import requests\n",
    "import random\n",
    "import time\n",
    "import pandas as pd\n",
    "\n",
    "import os\n",
    "from os import path\n",
    "\n",
    "from email.mime.text import MIMEText\n",
    "from email.mime.application import MIMEApplication\n",
    "from email.mime.multipart import MIMEMultipart\n",
    "from smtplib import SMTP\n",
    "import smtplib, ssl\n",
    "import sys\n"
   ]
  },
  {
   "cell_type": "markdown",
   "metadata": {},
   "source": [
    "**Read Target URL from a file**"
   ]
  },
  {
   "cell_type": "code",
   "execution_count": 28,
   "metadata": {},
   "outputs": [],
   "source": [
    "target_URL = []\n",
    "target_name = []\n",
    "file_name = 'target_products.txt'\n",
    "def get_target_products_from_file(file_name):\n",
    "    global target_URL\n",
    "    global target_name\n",
    "    target_df = pd.read_csv(file_name)\n",
    "    print(f'Total products to be scraped: {target_df.shape[0]}')\n",
    "    target_URL.extend(target_df['URL'].to_list())\n",
    "    target_name.extend(target_df['Name'].to_list())"
   ]
  },
  {
   "cell_type": "code",
   "execution_count": 29,
   "metadata": {},
   "outputs": [
    {
     "name": "stdout",
     "output_type": "stream",
     "text": [
      "Total products to be scraped: 6\n"
     ]
    }
   ],
   "source": [
    "get_target_products_from_file('target_products.txt')"
   ]
  },
  {
   "cell_type": "markdown",
   "metadata": {},
   "source": [
    "**Browser Header**"
   ]
  },
  {
   "cell_type": "code",
   "execution_count": 30,
   "metadata": {},
   "outputs": [],
   "source": [
    "headers = {\n",
    "        'authority': 'www.amazon.com',\n",
    "        'user-agent': 'Chrome/86.0.4240.198',\n",
    "        'accept': 'text/html,application/xhtml+xml,application/xml;q=0.9,image/webp,image/apng,*/*;q=0.8,application/signed-exchange;v=b3;q=0.9',\n",
    "        'accept-language': 'en-GB,en-US;q=0.9,en;q=0.8'\n",
    "}\n",
    "     "
   ]
  },
  {
   "cell_type": "code",
   "execution_count": 52,
   "metadata": {},
   "outputs": [],
   "source": [
    "headers = {'authority': 'www.amazon.com',\n",
    "'method': 'GET',\n",
    "'scheme': 'https',\n",
    "'accept': 'text/html,application/xhtml+xml,application/xml;q=0.9,image/avif,image/webp,image/apng,*/*;q=0.8,application/signed-exchange;v=b3;q=0.9',\n",
    "'accept-encoding': 'gzip, deflate, br',\n",
    "'accept-language': 'en-US,en;q=0.9',\n",
    "'cache-control': 'max-age=0',\n",
    "'dnt': '1',\n",
    "'downlink': '10',\n",
    "'ect': '4g',\n",
    "'rtt': '50',\n",
    "'sec-fetch-dest': 'document',\n",
    "'sec-fetch-mode': 'navigate',\n",
    "'sec-fetch-site': 'same-origin',\n",
    "'sec-fetch-user': '?1',\n",
    "'upgrade-insecure-requests': 1,\n",
    "'user-agent': 'Mozilla/5.0 (Windows NT 10.0; Win64; x64) AppleWebKit/537.36 (KHTML, like Gecko) Chrome/86.0.4240.198 Safari/537.36'\n",
    "}"
   ]
  },
  {
   "cell_type": "markdown",
   "metadata": {},
   "source": [
    "**Get URL HTML**"
   ]
  },
  {
   "cell_type": "code",
   "execution_count": 32,
   "metadata": {},
   "outputs": [],
   "source": [
    "def get_html(url):\n",
    "    global headers\n",
    "    response = requests.get(url,headers=headers)\n",
    "    if response.status_code == 200:\n",
    "        return response.content\n",
    "    else:\n",
    "        return False"
   ]
  },
  {
   "cell_type": "markdown",
   "metadata": {},
   "source": [
    "**Get HTML Soup**"
   ]
  },
  {
   "cell_type": "code",
   "execution_count": 33,
   "metadata": {},
   "outputs": [],
   "source": [
    "def get_html_soup(content):\n",
    "    soup = BeautifulSoup(content,\"lxml\")\n",
    "    return soup"
   ]
  },
  {
   "cell_type": "markdown",
   "metadata": {},
   "source": [
    "**Get Price**"
   ]
  },
  {
   "cell_type": "code",
   "execution_count": 34,
   "metadata": {},
   "outputs": [],
   "source": [
    "def get_value_by_id(soup,element_id):\n",
    "    try:\n",
    "        value = soup.select(element_id)[0].get_text()\n",
    "        return value\n",
    "    except:\n",
    "        #print(f'Element {element_id} not found')\n",
    "        pass\n",
    "    return False\n",
    "\n",
    "def get_value_by_tag(soup,tag):\n",
    "    try:\n",
    "        value = soup.findAll(tag)\n",
    "        if len(value) >0:\n",
    "            value = value[0].get_text()\n",
    "            return value\n",
    "    except:\n",
    "        pass\n",
    "    return False\n",
    "\n",
    "def get_price(soup):\n",
    "    element_ids = ['#priceblock_ourprice','#priceblock_dealprice']\n",
    "    for element_id in element_ids:\n",
    "        price = get_value_by_id(soup,element_id)\n",
    "        if price:\n",
    "            return price\n",
    "    return 'Not Found'"
   ]
  },
  {
   "cell_type": "markdown",
   "metadata": {},
   "source": [
    "**Get Title**"
   ]
  },
  {
   "cell_type": "code",
   "execution_count": 35,
   "metadata": {},
   "outputs": [],
   "source": [
    "def get_title(soup):\n",
    "    element_ids = ['#title','#productTitle']\n",
    "#    tags = ['title']\n",
    "    for element_id in element_ids:\n",
    "        title = get_value_by_id(soup,element_id)\n",
    "        if title:\n",
    "            title = title.strip(\"\\n\")\n",
    "            return title\n",
    "#     for tag in tags:\n",
    "#         title = get_value_by_tag(soup,tag)\n",
    "#         if title:\n",
    "#             return title\n",
    "    return 'Not Found'"
   ]
  },
  {
   "cell_type": "code",
   "execution_count": 36,
   "metadata": {},
   "outputs": [],
   "source": [
    "# #Test\n",
    "# content = get_html('https://www.amazon.com/Bose-SoundLink-Micro-Bluetooth-speaker/dp/B0748N1BZD')\n",
    "# #content = get_html('https://www.amazon.com/Kindle-Now-with-Built-in-Front-Light/dp/B07978J597')\n",
    "\n",
    "# if content:\n",
    "#     soup = get_html_soup(content)\n",
    "#     title = soup.select('#title')\n",
    "#     print(title)\n",
    "#     title = get_title(soup)\n",
    "#     print(title)\n",
    "# #print(content)\n",
    "# #ids = [tag['id'] for tag in soup.select('div[id]')]\n",
    "\n",
    "# #soup.select('priceblock_ourprice')\n",
    "\n",
    "# soup.find(id='priceblock_ourprice')\n",
    "# #print(soup.find(\"div\", {\"id\": \"desktop_unifiedPrice\"}))\n",
    "\n",
    "# file = open(\"MyFile.txt\", \"w\") \n",
    "# file.write(str(content))\n",
    "# file.close()"
   ]
  },
  {
   "cell_type": "markdown",
   "metadata": {},
   "source": [
    "**Get Current Date Time**"
   ]
  },
  {
   "cell_type": "code",
   "execution_count": 37,
   "metadata": {},
   "outputs": [],
   "source": [
    "import datetime\n",
    "def get_current_datetime():\n",
    "    now = datetime.datetime.now()\n",
    "    d1 = now.strftime(\"%Y%m%d_%H%M%S\")\n",
    "    #print(d1)\n",
    "    return d1"
   ]
  },
  {
   "cell_type": "markdown",
   "metadata": {},
   "source": [
    "**Data Frame to maintain Price History**"
   ]
  },
  {
   "cell_type": "code",
   "execution_count": 38,
   "metadata": {},
   "outputs": [
    {
     "name": "stdout",
     "output_type": "stream",
     "text": [
      "Loading Existing Price History\n",
      "Price History initialize with 117 records.\n"
     ]
    }
   ],
   "source": [
    "if path.exists('price_history.csv'):\n",
    "    print('Loading Existing Price History')\n",
    "    price_history_df = pd.read_csv('price_history.csv')\n",
    "    print(f'Price History initialized with {price_history_df.shape[0]} records.')\n",
    "else:\n",
    "    price_history_df = pd.DataFrame(columns=['crawled_datetime','url','product_name','title','price','price_changed_flag'])"
   ]
  },
  {
   "cell_type": "code",
   "execution_count": 39,
   "metadata": {},
   "outputs": [
    {
     "data": {
      "text/html": [
       "<div>\n",
       "<style scoped>\n",
       "    .dataframe tbody tr th:only-of-type {\n",
       "        vertical-align: middle;\n",
       "    }\n",
       "\n",
       "    .dataframe tbody tr th {\n",
       "        vertical-align: top;\n",
       "    }\n",
       "\n",
       "    .dataframe thead th {\n",
       "        text-align: right;\n",
       "    }\n",
       "</style>\n",
       "<table border=\"1\" class=\"dataframe\">\n",
       "  <thead>\n",
       "    <tr style=\"text-align: right;\">\n",
       "      <th></th>\n",
       "      <th>crawled_datetime</th>\n",
       "      <th>url</th>\n",
       "      <th>product_name</th>\n",
       "      <th>title</th>\n",
       "      <th>price</th>\n",
       "      <th>price_changed_flag</th>\n",
       "    </tr>\n",
       "  </thead>\n",
       "  <tbody>\n",
       "    <tr>\n",
       "      <th>112</th>\n",
       "      <td>20201211_200110</td>\n",
       "      <td>https://www.amazon.com/Kindle-Now-with-Built-i...</td>\n",
       "      <td>Kindle Reader</td>\n",
       "      <td>Kindle - Now with a Built-in Front Light - Bla...</td>\n",
       "      <td>89</td>\n",
       "      <td>0</td>\n",
       "    </tr>\n",
       "    <tr>\n",
       "      <th>113</th>\n",
       "      <td>20201211_200122</td>\n",
       "      <td>https://www.amazon.com/Apple-AirPods-Charging-...</td>\n",
       "      <td>Airpods</td>\n",
       "      <td>Apple AirPods with Charging Case (Wired)</td>\n",
       "      <td>128</td>\n",
       "      <td>0</td>\n",
       "    </tr>\n",
       "    <tr>\n",
       "      <th>114</th>\n",
       "      <td>20201211_200126</td>\n",
       "      <td>https://www.amazon.com/dp/B08J5MK16F/ref=fs_a_...</td>\n",
       "      <td>Apple Watch Series 6</td>\n",
       "      <td>New Apple Watch Series 6 (GPS, 44mm) - Space G...</td>\n",
       "      <td>409</td>\n",
       "      <td>0</td>\n",
       "    </tr>\n",
       "    <tr>\n",
       "      <th>115</th>\n",
       "      <td>20201211_200131</td>\n",
       "      <td>https://www.amazon.com/Bose-SoundLink-Micro-Bl...</td>\n",
       "      <td>Bose SoundLink Micro</td>\n",
       "      <td>Bose SoundLink Micro, Portable Outdoor Speaker...</td>\n",
       "      <td>99</td>\n",
       "      <td>0</td>\n",
       "    </tr>\n",
       "    <tr>\n",
       "      <th>116</th>\n",
       "      <td>20201211_200135</td>\n",
       "      <td>https://www.amazon.com/Bose-SoundLink-Color-Bl...</td>\n",
       "      <td>Bose SoundLink Color</td>\n",
       "      <td>Bose SoundLink Color Bluetooth Speaker II - Co...</td>\n",
       "      <td>99</td>\n",
       "      <td>0</td>\n",
       "    </tr>\n",
       "  </tbody>\n",
       "</table>\n",
       "</div>"
      ],
      "text/plain": [
       "    crawled_datetime                                                url  \\\n",
       "112  20201211_200110  https://www.amazon.com/Kindle-Now-with-Built-i...   \n",
       "113  20201211_200122  https://www.amazon.com/Apple-AirPods-Charging-...   \n",
       "114  20201211_200126  https://www.amazon.com/dp/B08J5MK16F/ref=fs_a_...   \n",
       "115  20201211_200131  https://www.amazon.com/Bose-SoundLink-Micro-Bl...   \n",
       "116  20201211_200135  https://www.amazon.com/Bose-SoundLink-Color-Bl...   \n",
       "\n",
       "             product_name                                              title  \\\n",
       "112         Kindle Reader  Kindle - Now with a Built-in Front Light - Bla...   \n",
       "113               Airpods           Apple AirPods with Charging Case (Wired)   \n",
       "114  Apple Watch Series 6  New Apple Watch Series 6 (GPS, 44mm) - Space G...   \n",
       "115  Bose SoundLink Micro  Bose SoundLink Micro, Portable Outdoor Speaker...   \n",
       "116  Bose SoundLink Color  Bose SoundLink Color Bluetooth Speaker II - Co...   \n",
       "\n",
       "    price  price_changed_flag  \n",
       "112    89                   0  \n",
       "113   128                   0  \n",
       "114   409                   0  \n",
       "115    99                   0  \n",
       "116    99                   0  "
      ]
     },
     "execution_count": 39,
     "metadata": {},
     "output_type": "execute_result"
    }
   ],
   "source": [
    "price_history_df.tail()"
   ]
  },
  {
   "cell_type": "markdown",
   "metadata": {},
   "source": [
    "**Add row to the DataFrame**"
   ]
  },
  {
   "cell_type": "code",
   "execution_count": 40,
   "metadata": {},
   "outputs": [],
   "source": [
    "def append_row_to_price_history_df(row):\n",
    "    global price_history_df\n",
    "    df_length = len(price_history_df) \n",
    "    price_history_df.loc[df_length] = row"
   ]
  },
  {
   "cell_type": "markdown",
   "metadata": {},
   "source": [
    "**Check if price has changed since last run**"
   ]
  },
  {
   "cell_type": "code",
   "execution_count": 41,
   "metadata": {},
   "outputs": [],
   "source": [
    "def has_price_changed(row):\n",
    "    product_name = row[2]\n",
    "#     print(product_name)\n",
    "    last_price = get_last_price(product_name)\n",
    "#     print(last_price)\n",
    "#     print(row)\n",
    "#     print(row[4])\n",
    "    if last_price =='Not Found':\n",
    "        return False\n",
    "    if last_price != row[4]:\n",
    "        print('Price Changed Detected')\n",
    "        return True\n",
    "    else:\n",
    "        return False"
   ]
  },
  {
   "cell_type": "markdown",
   "metadata": {},
   "source": [
    "**Get Previous Run's price**"
   ]
  },
  {
   "cell_type": "code",
   "execution_count": 42,
   "metadata": {},
   "outputs": [],
   "source": [
    "def get_last_price(product_name):\n",
    "    global price_history_df\n",
    "    most_recent_row = price_history_df.loc[price_history_df['product_name']==product_name]\n",
    "    if len(most_recent_row) >0 and most_recent_row.iloc[-1]['price'] != 'Not Found' :\n",
    "        return int(most_recent_row.iloc[-1]['price'])\n",
    "    else:\n",
    "        return 'Not Found'"
   ]
  },
  {
   "cell_type": "markdown",
   "metadata": {},
   "source": [
    "**Convert Price to Number**"
   ]
  },
  {
   "cell_type": "code",
   "execution_count": 43,
   "metadata": {},
   "outputs": [],
   "source": [
    "def get_price_in_num(price):\n",
    "    if len(price) >0 and price[0]=='$':\n",
    "        return int(float(price[1:]))\n",
    "    else:\n",
    "        return 'Not Found'"
   ]
  },
  {
   "cell_type": "markdown",
   "metadata": {},
   "source": [
    "**Function to wait for random seconds before hitting Amazon.com**"
   ]
  },
  {
   "cell_type": "code",
   "execution_count": 51,
   "metadata": {},
   "outputs": [],
   "source": [
    "def random_wait():\n",
    "    sleep_times= [3,5,8,10,12,15,20]\n",
    "    sleep_time = random.choice(sleep_times)\n",
    "    print(f'Sleeping for {sleep_time} seconds before hitting Amazon again ')\n",
    "    time.sleep(sleep_time)"
   ]
  },
  {
   "cell_type": "markdown",
   "metadata": {},
   "source": [
    "**Main Loop**"
   ]
  },
  {
   "cell_type": "code",
   "execution_count": 45,
   "metadata": {},
   "outputs": [
    {
     "name": "stdout",
     "output_type": "stream",
     "text": [
      "Getting prices for Kindle Reader\n",
      "Sleeping for 5 seconds before hitting Amazon again \n",
      "Getting prices for Airpods\n",
      "Sleeping for 8 seconds before hitting Amazon again \n",
      "Getting prices for Apple Watch Series 6\n",
      "Sleeping for 5 seconds before hitting Amazon again \n",
      "Getting prices for Bose SoundLink Micro\n",
      "Sleeping for 8 seconds before hitting Amazon again \n",
      "Getting prices for Bose SoundLink Color\n",
      "Sleeping for 8 seconds before hitting Amazon again \n",
      "Getting prices for Bose HomeSpeaker 500\n",
      "Done.\n"
     ]
    }
   ],
   "source": [
    "last_run_index = price_history_df.shape[0]\n",
    "for index,url in enumerate(target_URL):\n",
    "    print(f'Getting prices for {target_name[index]}')\n",
    "    scraped_date_time = get_current_datetime()\n",
    "    content = get_html(url)\n",
    "    if content:\n",
    "        soup = get_html_soup(content)\n",
    "        price = get_price_in_num(get_price(soup))\n",
    "        title = get_title(soup)\n",
    "        #print(f'{target_name[index]} - {title} price is {price}')\n",
    "    else:\n",
    "        print(f'Invalid URL - {url}')\n",
    "        price = 'Not Found'\n",
    "        title = 'Not Found'\n",
    "    row = [scraped_date_time,url,target_name[index],title,price]\n",
    "    if has_price_changed(row):\n",
    "        price_changed_flag = 1\n",
    "    else:\n",
    "        price_changed_flag = 0\n",
    "    row.append(price_changed_flag)\n",
    "    append_row_to_price_history_df(row)\n",
    "    if index < len(target_URL) -1:\n",
    "        random_wait()\n",
    "    else:\n",
    "        print('Done.')"
   ]
  },
  {
   "cell_type": "code",
   "execution_count": 46,
   "metadata": {},
   "outputs": [
    {
     "data": {
      "text/html": [
       "<div>\n",
       "<style scoped>\n",
       "    .dataframe tbody tr th:only-of-type {\n",
       "        vertical-align: middle;\n",
       "    }\n",
       "\n",
       "    .dataframe tbody tr th {\n",
       "        vertical-align: top;\n",
       "    }\n",
       "\n",
       "    .dataframe thead th {\n",
       "        text-align: right;\n",
       "    }\n",
       "</style>\n",
       "<table border=\"1\" class=\"dataframe\">\n",
       "  <thead>\n",
       "    <tr style=\"text-align: right;\">\n",
       "      <th></th>\n",
       "      <th>crawled_datetime</th>\n",
       "      <th>url</th>\n",
       "      <th>product_name</th>\n",
       "      <th>title</th>\n",
       "      <th>price</th>\n",
       "      <th>price_changed_flag</th>\n",
       "    </tr>\n",
       "  </thead>\n",
       "  <tbody>\n",
       "    <tr>\n",
       "      <th>113</th>\n",
       "      <td>20201211_200122</td>\n",
       "      <td>https://www.amazon.com/Apple-AirPods-Charging-...</td>\n",
       "      <td>Airpods</td>\n",
       "      <td>Apple AirPods with Charging Case (Wired)</td>\n",
       "      <td>128</td>\n",
       "      <td>0</td>\n",
       "    </tr>\n",
       "    <tr>\n",
       "      <th>114</th>\n",
       "      <td>20201211_200126</td>\n",
       "      <td>https://www.amazon.com/dp/B08J5MK16F/ref=fs_a_...</td>\n",
       "      <td>Apple Watch Series 6</td>\n",
       "      <td>New Apple Watch Series 6 (GPS, 44mm) - Space G...</td>\n",
       "      <td>409</td>\n",
       "      <td>0</td>\n",
       "    </tr>\n",
       "    <tr>\n",
       "      <th>115</th>\n",
       "      <td>20201211_200131</td>\n",
       "      <td>https://www.amazon.com/Bose-SoundLink-Micro-Bl...</td>\n",
       "      <td>Bose SoundLink Micro</td>\n",
       "      <td>Bose SoundLink Micro, Portable Outdoor Speaker...</td>\n",
       "      <td>99</td>\n",
       "      <td>0</td>\n",
       "    </tr>\n",
       "    <tr>\n",
       "      <th>116</th>\n",
       "      <td>20201211_200135</td>\n",
       "      <td>https://www.amazon.com/Bose-SoundLink-Color-Bl...</td>\n",
       "      <td>Bose SoundLink Color</td>\n",
       "      <td>Bose SoundLink Color Bluetooth Speaker II - Co...</td>\n",
       "      <td>99</td>\n",
       "      <td>0</td>\n",
       "    </tr>\n",
       "    <tr>\n",
       "      <th>117</th>\n",
       "      <td>20201211_200517</td>\n",
       "      <td>https://www.amazon.com/Kindle-Now-with-Built-i...</td>\n",
       "      <td>Kindle Reader</td>\n",
       "      <td>Kindle - Now with a Built-in Front Light - Bla...</td>\n",
       "      <td>89</td>\n",
       "      <td>0</td>\n",
       "    </tr>\n",
       "    <tr>\n",
       "      <th>118</th>\n",
       "      <td>20201211_200524</td>\n",
       "      <td>https://www.amazon.com/Apple-AirPods-Charging-...</td>\n",
       "      <td>Airpods</td>\n",
       "      <td>Apple AirPods with Charging Case (Wired)</td>\n",
       "      <td>128</td>\n",
       "      <td>0</td>\n",
       "    </tr>\n",
       "    <tr>\n",
       "      <th>119</th>\n",
       "      <td>20201211_200533</td>\n",
       "      <td>https://www.amazon.com/dp/B08J5MK16F/ref=fs_a_...</td>\n",
       "      <td>Apple Watch Series 6</td>\n",
       "      <td>New Apple Watch Series 6 (GPS, 44mm) - Space G...</td>\n",
       "      <td>409</td>\n",
       "      <td>0</td>\n",
       "    </tr>\n",
       "    <tr>\n",
       "      <th>120</th>\n",
       "      <td>20201211_200540</td>\n",
       "      <td>https://www.amazon.com/Bose-SoundLink-Micro-Bl...</td>\n",
       "      <td>Bose SoundLink Micro</td>\n",
       "      <td>Bose SoundLink Micro, Portable Outdoor Speaker...</td>\n",
       "      <td>99</td>\n",
       "      <td>0</td>\n",
       "    </tr>\n",
       "    <tr>\n",
       "      <th>121</th>\n",
       "      <td>20201211_200550</td>\n",
       "      <td>https://www.amazon.com/Bose-SoundLink-Color-Bl...</td>\n",
       "      <td>Bose SoundLink Color</td>\n",
       "      <td>Bose SoundLink Color Bluetooth Speaker II - Co...</td>\n",
       "      <td>99</td>\n",
       "      <td>0</td>\n",
       "    </tr>\n",
       "    <tr>\n",
       "      <th>122</th>\n",
       "      <td>20201211_200559</td>\n",
       "      <td>https://www.amazon.com/Bose-Speaker-Alexa-cont...</td>\n",
       "      <td>Bose HomeSpeaker 500</td>\n",
       "      <td>Bose Home Speaker 500 with Alexa Voice Control...</td>\n",
       "      <td>299</td>\n",
       "      <td>0</td>\n",
       "    </tr>\n",
       "  </tbody>\n",
       "</table>\n",
       "</div>"
      ],
      "text/plain": [
       "    crawled_datetime                                                url  \\\n",
       "113  20201211_200122  https://www.amazon.com/Apple-AirPods-Charging-...   \n",
       "114  20201211_200126  https://www.amazon.com/dp/B08J5MK16F/ref=fs_a_...   \n",
       "115  20201211_200131  https://www.amazon.com/Bose-SoundLink-Micro-Bl...   \n",
       "116  20201211_200135  https://www.amazon.com/Bose-SoundLink-Color-Bl...   \n",
       "117  20201211_200517  https://www.amazon.com/Kindle-Now-with-Built-i...   \n",
       "118  20201211_200524  https://www.amazon.com/Apple-AirPods-Charging-...   \n",
       "119  20201211_200533  https://www.amazon.com/dp/B08J5MK16F/ref=fs_a_...   \n",
       "120  20201211_200540  https://www.amazon.com/Bose-SoundLink-Micro-Bl...   \n",
       "121  20201211_200550  https://www.amazon.com/Bose-SoundLink-Color-Bl...   \n",
       "122  20201211_200559  https://www.amazon.com/Bose-Speaker-Alexa-cont...   \n",
       "\n",
       "             product_name                                              title  \\\n",
       "113               Airpods           Apple AirPods with Charging Case (Wired)   \n",
       "114  Apple Watch Series 6  New Apple Watch Series 6 (GPS, 44mm) - Space G...   \n",
       "115  Bose SoundLink Micro  Bose SoundLink Micro, Portable Outdoor Speaker...   \n",
       "116  Bose SoundLink Color  Bose SoundLink Color Bluetooth Speaker II - Co...   \n",
       "117         Kindle Reader  Kindle - Now with a Built-in Front Light - Bla...   \n",
       "118               Airpods           Apple AirPods with Charging Case (Wired)   \n",
       "119  Apple Watch Series 6  New Apple Watch Series 6 (GPS, 44mm) - Space G...   \n",
       "120  Bose SoundLink Micro  Bose SoundLink Micro, Portable Outdoor Speaker...   \n",
       "121  Bose SoundLink Color  Bose SoundLink Color Bluetooth Speaker II - Co...   \n",
       "122  Bose HomeSpeaker 500  Bose Home Speaker 500 with Alexa Voice Control...   \n",
       "\n",
       "    price  price_changed_flag  \n",
       "113   128                   0  \n",
       "114   409                   0  \n",
       "115    99                   0  \n",
       "116    99                   0  \n",
       "117    89                   0  \n",
       "118   128                   0  \n",
       "119   409                   0  \n",
       "120    99                   0  \n",
       "121    99                   0  \n",
       "122   299                   0  "
      ]
     },
     "execution_count": 46,
     "metadata": {},
     "output_type": "execute_result"
    }
   ],
   "source": [
    "price_history_df.tail(10)"
   ]
  },
  {
   "cell_type": "markdown",
   "metadata": {},
   "source": [
    "**Detect Changes and Send Email**"
   ]
  },
  {
   "cell_type": "code",
   "execution_count": 47,
   "metadata": {},
   "outputs": [],
   "source": [
    "\n",
    "def get_pwd():\n",
    "    with open('pwd.txt','r') as f:\n",
    "        return f.readline()\n",
    "\n",
    "    \n",
    "    \n",
    "def prepare_html_msg(df):\n",
    "    msg = MIMEMultipart()\n",
    "    msg['Subject'] = \"Price Change Detected\"\n",
    "    msg['From'] = 'raagabot@gmail.com'\n",
    "    html = \"\"\"\\\n",
    "            <html>\n",
    "            <head></head>\n",
    "            <body>\n",
    "            {0}\n",
    "            </body>\n",
    "            </html>\n",
    "            \"\"\".format(df.to_html())\n",
    "    part1 = MIMEText(html, 'html')\n",
    "    msg.attach(part1)\n",
    "    return msg\n",
    "\n",
    "def send_email(msg):\n",
    "    recipients = ['raagabot@gmail.com'] \n",
    "    emaillist = [elem.strip().split(',') for elem in recipients]\n",
    "    sender = 'raagabot@gmail.com'\n",
    "    # Create secure connection with server and send email\n",
    "    \n",
    "    context = ssl.create_default_context()\n",
    "    with smtplib.SMTP_SSL(\"smtp.gmail.com\", 465, context=context) as server:\n",
    "        server.login(sender, get_pwd())\n",
    "        server.sendmail(\n",
    "            sender, emaillist, msg.as_string()\n",
    "        )\n",
    "        \n",
    "def check_and_send_email():\n",
    "    global price_history_df\n",
    "    df = price_history_df.iloc[last_run_index:]\n",
    "    changed_df = df[df['price_changed_flag']==1]\n",
    "    if changed_df.shape[0] >0:\n",
    "        msg = prepare_html_msg(changed_df)\n",
    "        send_email(msg)\n",
    "        print('Emal Sent.')\n",
    "    else:\n",
    "        print('No Price Change Detected')"
   ]
  },
  {
   "cell_type": "code",
   "execution_count": 48,
   "metadata": {},
   "outputs": [
    {
     "name": "stdout",
     "output_type": "stream",
     "text": [
      "No Price Change Detected\n"
     ]
    }
   ],
   "source": [
    "check_and_send_email()"
   ]
  },
  {
   "cell_type": "markdown",
   "metadata": {},
   "source": [
    "**Save price history to disk**"
   ]
  },
  {
   "cell_type": "code",
   "execution_count": 49,
   "metadata": {},
   "outputs": [],
   "source": [
    "price_history_df.to_csv('price_history.csv',index=False)"
   ]
  },
  {
   "cell_type": "markdown",
   "metadata": {},
   "source": [
    "**Save notebook as python script**"
   ]
  },
  {
   "cell_type": "code",
   "execution_count": 50,
   "metadata": {},
   "outputs": [
    {
     "name": "stderr",
     "output_type": "stream",
     "text": [
      "[NbConvertApp] Converting notebook V9_Amazon_Price_Tracker.ipynb to script\n",
      "[NbConvertApp] Writing 9095 bytes to V9_Amazon_Price_Tracker.py\n"
     ]
    }
   ],
   "source": [
    "!jupyter nbconvert --to script V9_Amazon_Price_Tracker.ipynb"
   ]
  },
  {
   "cell_type": "code",
   "execution_count": null,
   "metadata": {},
   "outputs": [],
   "source": []
  }
 ],
 "metadata": {
  "kernelspec": {
   "display_name": "Python 3",
   "language": "python",
   "name": "python3"
  },
  "language_info": {
   "codemirror_mode": {
    "name": "ipython",
    "version": 3
   },
   "file_extension": ".py",
   "mimetype": "text/x-python",
   "name": "python",
   "nbconvert_exporter": "python",
   "pygments_lexer": "ipython3",
   "version": "3.6.12"
  }
 },
 "nbformat": 4,
 "nbformat_minor": 4
}
