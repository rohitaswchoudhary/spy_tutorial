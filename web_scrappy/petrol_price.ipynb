{
 "metadata": {
  "language_info": {
   "codemirror_mode": {
    "name": "ipython",
    "version": 3
   },
   "file_extension": ".py",
   "mimetype": "text/x-python",
   "name": "python",
   "nbconvert_exporter": "python",
   "pygments_lexer": "ipython3",
   "version": "3.8.5-final"
  },
  "orig_nbformat": 2,
  "kernelspec": {
   "name": "python3",
   "display_name": "Python 3",
   "language": "python"
  }
 },
 "nbformat": 4,
 "nbformat_minor": 2,
 "cells": [
  {
   "cell_type": "code",
   "execution_count": null,
   "metadata": {},
   "outputs": [],
   "source": [
    "# import module \n",
    "import pandas as pd \n",
    "import requests \n",
    "from bs4 import BeautifulSoup"
   ]
  },
  {
   "cell_type": "code",
   "execution_count": null,
   "metadata": {},
   "outputs": [],
   "source": [
    "# user define function \n",
    "# Scrape the data \n",
    "def getdata(url): \n",
    "    r = requests.get(url) \n",
    "    return r.text "
   ]
  },
  {
   "cell_type": "code",
   "execution_count": null,
   "metadata": {},
   "outputs": [],
   "source": [
    "# link for extract html data \n",
    "htmldata = getdata(\"https://www.goodreturns.in/petrol-price.html\") \n",
    "soup = BeautifulSoup(htmldata, 'html.parser') \n",
    "result = soup.find_all(\"div\", class_=\"gold_silver_table\") \n",
    "print(result) "
   ]
  },
  {
   "cell_type": "code",
   "execution_count": null,
   "metadata": {},
   "outputs": [],
   "source": [
    "# Declare string var \n",
    "# Declare list \n",
    "mydatastr = '' \n",
    "result = [] \n",
    "  \n",
    "# searching all tr in the html data \n",
    "# storing as a string \n",
    "for table in soup.find_all('tr'): \n",
    "    mydatastr += table.get_text() \n",
    "  \n",
    "# set accourding to your required \n",
    "mydatastr = mydatastr[1:] \n",
    "itemlist = mydatastr.split(\"\\n\\n\") \n",
    "  \n",
    "for item in itemlist[:-5]: \n",
    "    result.append(item.split(\"\\n\")) \n",
    "  \n",
    "result"
   ]
  },
  {
   "cell_type": "code",
   "execution_count": null,
   "metadata": {},
   "outputs": [],
   "source": [
    "# Calling DataFrame constructor on list \n",
    "df = pd.DataFrame(result[:-8]) \n",
    "df "
   ]
  },
  {
   "cell_type": "code",
   "execution_count": null,
   "metadata": {},
   "outputs": [],
   "source": []
  }
 ]
}