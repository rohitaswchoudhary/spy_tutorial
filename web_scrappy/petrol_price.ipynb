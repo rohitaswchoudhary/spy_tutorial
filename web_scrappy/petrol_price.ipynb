{
 "metadata": {
  "language_info": {
   "codemirror_mode": {
    "name": "ipython",
    "version": 3
   },
   "file_extension": ".py",
   "mimetype": "text/x-python",
   "name": "python",
   "nbconvert_exporter": "python",
   "pygments_lexer": "ipython3",
   "version": "3.8.5-final"
  },
  "orig_nbformat": 2,
  "kernelspec": {
   "name": "python3",
   "display_name": "Python 3",
   "language": "python"
  }
 },
 "nbformat": 4,
 "nbformat_minor": 2,
 "cells": [
  {
   "cell_type": "code",
   "execution_count": 1,
   "metadata": {},
   "outputs": [],
   "source": [
    "# import module \n",
    "import pandas as pd \n",
    "import requests \n",
    "from bs4 import BeautifulSoup"
   ]
  },
  {
   "cell_type": "code",
   "execution_count": 2,
   "metadata": {},
   "outputs": [],
   "source": [
    "# user define function \n",
    "# Scrape the data \n",
    "def getdata(url): \n",
    "    r = requests.get(url) \n",
    "    return r.text "
   ]
  },
  {
   "cell_type": "code",
   "execution_count": 3,
   "metadata": {},
   "outputs": [
    {
     "output_type": "stream",
     "name": "stdout",
     "text": [
      "[<div class=\"gold_silver_table\">\n<table border=\"0\" cellpadding=\"1\" cellspacing=\"1\" width=\"100%\">\n<tr class=\"first\">\n<td class=\"heading\" width=\"200\">City</td>\n<td class=\"heading\" width=\"200\">Today Price</td>\n<td class=\"heading\" width=\"200\">Yesterday's Price</td>\n</tr>\n<tr class=\"even_row\">\n<td><a href=\"/petrol-price-in-new-delhi.html\" title=\"New Delhi\">New Delhi</a></td>\n<td> ₹ 87.30</td>\n<td> ₹ 86.95</td>\n</tr>\n<tr class=\"odd_row\">\n<td><a href=\"/petrol-price-in-kolkata.html\" title=\"Kolkata\">Kolkata</a></td>\n<td> ₹ 88.63</td>\n<td> ₹ 88.30</td>\n</tr>\n<tr class=\"even_row\">\n<td><a href=\"/petrol-price-in-mumbai.html\" title=\"Mumbai\">Mumbai</a></td>\n<td> ₹ 93.83</td>\n<td> ₹ 93.49</td>\n</tr>\n<tr class=\"odd_row\">\n<td><a href=\"/petrol-price-in-chennai.html\" title=\"Chennai\">Chennai</a></td>\n<td> ₹ 89.70</td>\n<td> ₹ 89.39</td>\n</tr>\n<tr class=\"even_row\">\n<td><a href=\"/petrol-price-in-gurgaon.html\" title=\"Gurgaon\">Gurgaon</a></td>\n<td> ₹ 85.36</td>\n<td> ₹ 85.02</td>\n</tr>\n<tr class=\"odd_row\">\n<td><a href=\"/petrol-price-in-noida.html\" title=\"Noida\">Noida</a></td>\n<td> ₹ 86.39</td>\n<td> ₹ 86.12</td>\n</tr>\n<tr class=\"even_row\">\n<td><a href=\"/petrol-price-in-bangalore.html\" title=\"Bangalore\">Bangalore</a></td>\n<td> ₹ 90.22</td>\n<td> ₹ 89.93</td>\n</tr>\n<tr class=\"odd_row\">\n<td><a href=\"/petrol-price-in-bhubaneswar.html\" title=\"Bhubaneswar\">Bhubaneswar</a></td>\n<td> ₹ 87.83</td>\n<td> ₹ 87.63</td>\n</tr>\n<tr class=\"even_row\">\n<td><a href=\"/petrol-price-in-chandigarh.html\" title=\"Chandigarh\">Chandigarh</a></td>\n<td> ₹ 84.02</td>\n<td> ₹ 83.68</td>\n</tr>\n<tr class=\"odd_row\">\n<td><a href=\"/petrol-price-in-hyderabad.html\" title=\"Hyderabad\">Hyderabad</a></td>\n<td> ₹ 90.78</td>\n<td> ₹ 90.42</td>\n</tr>\n<tr class=\"even_row\">\n<td><a href=\"/petrol-price-in-jaipur.html\" title=\"Jaipur\">Jaipur</a></td>\n<td> ₹ 93.63</td>\n<td> ₹ 92.95</td>\n</tr>\n<tr class=\"odd_row\">\n<td><a href=\"/petrol-price-in-lucknow.html\" title=\"Lucknow\">Lucknow</a></td>\n<td> ₹ 86.18</td>\n<td> ₹ 85.91</td>\n</tr>\n<tr class=\"even_row\">\n<td><a href=\"/petrol-price-in-patna.html\" title=\"Patna\">Patna</a></td>\n<td> ₹ 90.25</td>\n<td> ₹ 89.92</td>\n</tr>\n<tr class=\"odd_row\">\n<td><a href=\"/petrol-price-in-trivandrum.html\" title=\"Trivandrum\">Trivandrum</a></td>\n<td> ₹ 88.83</td>\n<td> ₹ 89.00</td>\n</tr>\n</table>\n</div>]\n"
     ]
    }
   ],
   "source": [
    "# link for extract html data \n",
    "htmldata = getdata(\"https://www.goodreturns.in/petrol-price.html\") \n",
    "soup = BeautifulSoup(htmldata, 'html.parser') \n",
    "result = soup.find_all(\"div\", class_=\"gold_silver_table\") \n",
    "print(result) "
   ]
  },
  {
   "cell_type": "code",
   "execution_count": 1,
   "metadata": {},
   "outputs": [
    {
     "output_type": "error",
     "ename": "NameError",
     "evalue": "name 'soup' is not defined",
     "traceback": [
      "\u001b[1;31m---------------------------------------------------------------------------\u001b[0m",
      "\u001b[1;31mNameError\u001b[0m                                 Traceback (most recent call last)",
      "\u001b[1;32m<ipython-input-1-2512b2e4e057>\u001b[0m in \u001b[0;36m<module>\u001b[1;34m\u001b[0m\n\u001b[0;32m      6\u001b[0m \u001b[1;31m# searching all tr in the html data\u001b[0m\u001b[1;33m\u001b[0m\u001b[1;33m\u001b[0m\u001b[1;33m\u001b[0m\u001b[0m\n\u001b[0;32m      7\u001b[0m \u001b[1;31m# storing as a string\u001b[0m\u001b[1;33m\u001b[0m\u001b[1;33m\u001b[0m\u001b[1;33m\u001b[0m\u001b[0m\n\u001b[1;32m----> 8\u001b[1;33m \u001b[1;32mfor\u001b[0m \u001b[0mtable\u001b[0m \u001b[1;32min\u001b[0m \u001b[0msoup\u001b[0m\u001b[1;33m.\u001b[0m\u001b[0mfind_all\u001b[0m\u001b[1;33m(\u001b[0m\u001b[1;34m'tr'\u001b[0m\u001b[1;33m)\u001b[0m\u001b[1;33m:\u001b[0m\u001b[1;33m\u001b[0m\u001b[1;33m\u001b[0m\u001b[0m\n\u001b[0m\u001b[0;32m      9\u001b[0m     \u001b[0mmydatastr\u001b[0m \u001b[1;33m+=\u001b[0m \u001b[0mtable\u001b[0m\u001b[1;33m.\u001b[0m\u001b[0mget_text\u001b[0m\u001b[1;33m(\u001b[0m\u001b[1;33m)\u001b[0m\u001b[1;33m\u001b[0m\u001b[1;33m\u001b[0m\u001b[0m\n\u001b[0;32m     10\u001b[0m \u001b[1;33m\u001b[0m\u001b[0m\n",
      "\u001b[1;31mNameError\u001b[0m: name 'soup' is not defined"
     ]
    }
   ],
   "source": [
    "# Declare string var \n",
    "# Declare list \n",
    "mydatastr = '' \n",
    "result = [] \n",
    "  \n",
    "# searching all tr in the html data \n",
    "# storing as a string \n",
    "for table in soup.find_all('tr'): \n",
    "    mydatastr += table.get_text() \n",
    "  \n",
    "# set accourding to your required \n",
    "mydatastr = mydatastr[1:] \n",
    "itemlist = mydatastr.split(\"\\n\\n\") \n",
    "  \n",
    "for item in itemlist[:-5]: \n",
    "    result.append(item.split(\"\\n\")) \n",
    "  \n",
    "result"
   ]
  },
  {
   "cell_type": "code",
   "execution_count": 5,
   "metadata": {},
   "outputs": [
    {
     "output_type": "execute_result",
     "data": {
      "text/plain": [
       "              0            1                  2\n",
       "0          City  Today Price  Yesterday's Price\n",
       "1     New Delhi      ₹ 87.30            ₹ 86.95\n",
       "2       Kolkata      ₹ 88.63            ₹ 88.30\n",
       "3        Mumbai      ₹ 93.83            ₹ 93.49\n",
       "4       Chennai      ₹ 89.70            ₹ 89.39\n",
       "5       Gurgaon      ₹ 85.36            ₹ 85.02\n",
       "6         Noida      ₹ 86.39            ₹ 86.12\n",
       "7     Bangalore      ₹ 90.22            ₹ 89.93\n",
       "8   Bhubaneswar      ₹ 87.83            ₹ 87.63\n",
       "9    Chandigarh      ₹ 84.02            ₹ 83.68\n",
       "10    Hyderabad      ₹ 90.78            ₹ 90.42\n",
       "11       Jaipur      ₹ 93.63            ₹ 92.95\n",
       "12      Lucknow      ₹ 86.18            ₹ 85.91\n",
       "13        Patna      ₹ 90.25            ₹ 89.92\n",
       "14   Trivandrum      ₹ 88.83            ₹ 89.00"
      ],
      "text/html": "<div>\n<style scoped>\n    .dataframe tbody tr th:only-of-type {\n        vertical-align: middle;\n    }\n\n    .dataframe tbody tr th {\n        vertical-align: top;\n    }\n\n    .dataframe thead th {\n        text-align: right;\n    }\n</style>\n<table border=\"1\" class=\"dataframe\">\n  <thead>\n    <tr style=\"text-align: right;\">\n      <th></th>\n      <th>0</th>\n      <th>1</th>\n      <th>2</th>\n    </tr>\n  </thead>\n  <tbody>\n    <tr>\n      <th>0</th>\n      <td>City</td>\n      <td>Today Price</td>\n      <td>Yesterday's Price</td>\n    </tr>\n    <tr>\n      <th>1</th>\n      <td>New Delhi</td>\n      <td>₹ 87.30</td>\n      <td>₹ 86.95</td>\n    </tr>\n    <tr>\n      <th>2</th>\n      <td>Kolkata</td>\n      <td>₹ 88.63</td>\n      <td>₹ 88.30</td>\n    </tr>\n    <tr>\n      <th>3</th>\n      <td>Mumbai</td>\n      <td>₹ 93.83</td>\n      <td>₹ 93.49</td>\n    </tr>\n    <tr>\n      <th>4</th>\n      <td>Chennai</td>\n      <td>₹ 89.70</td>\n      <td>₹ 89.39</td>\n    </tr>\n    <tr>\n      <th>5</th>\n      <td>Gurgaon</td>\n      <td>₹ 85.36</td>\n      <td>₹ 85.02</td>\n    </tr>\n    <tr>\n      <th>6</th>\n      <td>Noida</td>\n      <td>₹ 86.39</td>\n      <td>₹ 86.12</td>\n    </tr>\n    <tr>\n      <th>7</th>\n      <td>Bangalore</td>\n      <td>₹ 90.22</td>\n      <td>₹ 89.93</td>\n    </tr>\n    <tr>\n      <th>8</th>\n      <td>Bhubaneswar</td>\n      <td>₹ 87.83</td>\n      <td>₹ 87.63</td>\n    </tr>\n    <tr>\n      <th>9</th>\n      <td>Chandigarh</td>\n      <td>₹ 84.02</td>\n      <td>₹ 83.68</td>\n    </tr>\n    <tr>\n      <th>10</th>\n      <td>Hyderabad</td>\n      <td>₹ 90.78</td>\n      <td>₹ 90.42</td>\n    </tr>\n    <tr>\n      <th>11</th>\n      <td>Jaipur</td>\n      <td>₹ 93.63</td>\n      <td>₹ 92.95</td>\n    </tr>\n    <tr>\n      <th>12</th>\n      <td>Lucknow</td>\n      <td>₹ 86.18</td>\n      <td>₹ 85.91</td>\n    </tr>\n    <tr>\n      <th>13</th>\n      <td>Patna</td>\n      <td>₹ 90.25</td>\n      <td>₹ 89.92</td>\n    </tr>\n    <tr>\n      <th>14</th>\n      <td>Trivandrum</td>\n      <td>₹ 88.83</td>\n      <td>₹ 89.00</td>\n    </tr>\n  </tbody>\n</table>\n</div>"
     },
     "metadata": {},
     "execution_count": 5
    }
   ],
   "source": [
    "# Calling DataFrame constructor on list \n",
    "df = pd.DataFrame(result[:-8]) \n",
    "df "
   ]
  },
  {
   "cell_type": "code",
   "execution_count": null,
   "metadata": {},
   "outputs": [],
   "source": []
  }
 ]
}