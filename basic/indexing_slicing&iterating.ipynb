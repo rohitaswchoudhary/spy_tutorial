{
 "cells": [
  {
   "cell_type": "code",
   "execution_count": 2,
   "metadata": {},
   "outputs": [],
   "source": [
    "import numpy as np"
   ]
  },
  {
   "cell_type": "code",
   "execution_count": 6,
   "metadata": {},
   "outputs": [
    {
     "output_type": "stream",
     "name": "stdout",
     "text": [
      "         /////////////////////               \n[  1   8  27  64 125]\n27\n[ 27  64 125]\n[ 8 64]\n         -----------------------              \n1.0\n2.0\n3.0\n3.9999999999999996\n5.0\n         -----------------------   ---------------------           \n[  0   1   2   3   4   5   6   7   8   9  10  11  12  13  14  15  16  17\n  18  19  20  21  22  23  24  25  26  27  28  29  30  31  32  33  34  35\n  36  37  38  39  40  41  42  43  44  45  46  47  48  49  50  51  52  53\n  54  55  56  57  58  59  60  61  62  63  64  65  66  67  68  69  70  71\n  72  73  74  75  76  77  78  79  80  81  82  83  84  85  86  87  88  89\n  90  91  92  93  94  95  96  97  98  99 100 101 102 103 104 105 106 107\n 108 109 110 111 112 113 114 115 116 117 118 119 120 121 122 123 124]\n"
     ]
    }
   ],
   "source": [
    "a=np.arange(1,6)**3\n",
    "\n",
    "print(\"         /////////////////////               \")\n",
    "print(a)\n",
    "print(a[2])\n",
    "print(a[2:5])\n",
    "print(a[1:6:2])\n",
    "print(\"         -----------------------              \")\n",
    "for i in a:\n",
    "    print(i**(1/3))\n",
    "print(\"         -----------------------   ---------------------           \")\n",
    "\n",
    "print(np.arange(i))\n"
   ]
  },
  {
   "cell_type": "code",
   "execution_count": 14,
   "metadata": {},
   "outputs": [
    {
     "output_type": "stream",
     "name": "stdout",
     "text": [
      "[[ 0  1  2  3  4  5]\n [10 11 12 13 14 15]\n [20 21 22 23 24 25]\n [30 31 32 33 34 35]\n [40 41 42 43 44 45]]\n         -----------------------              \n23\n         -----------------------              \n[ 1 11 21 31 41]\n[ 1 11 21 31 41]\n"
     ]
    }
   ],
   "source": [
    "# multidimensional array can have one index per axis. these indices are given in a tupil separated by commas:\n",
    "def f(x,y):\n",
    "    return 10*x+y\n",
    "\n",
    "b=np.fromfunction(f,(5,6),dtype=int)\n",
    "print(b)\n",
    "print(\"         -----------------------              \")\n",
    "\n",
    "print(b[2,3])\n",
    "\n",
    "print(\"         -----------------------              \")\n",
    "print(b[0:5,1])\n",
    "print(b[:,1])\n"
   ]
  },
  {
   "cell_type": "code",
   "execution_count": 16,
   "metadata": {},
   "outputs": [
    {
     "output_type": "stream",
     "name": "stdout",
     "text": [
      "[[10 11 12 13 14 15]\n [20 21 22 23 24 25]]\n[40 41 42 43 44 45]\n"
     ]
    }
   ],
   "source": [
    "print(b[1:3,:])\n",
    "print(b[-1])"
   ]
  }
 ],
 "metadata": {
  "kernelspec": {
   "display_name": "Python 3",
   "language": "python",
   "name": "python3"
  },
  "language_info": {
   "codemirror_mode": {
    "name": "ipython",
    "version": 3
   },
   "file_extension": ".py",
   "mimetype": "text/x-python",
   "name": "python",
   "nbconvert_exporter": "python",
   "pygments_lexer": "ipython3",
   "version": "3.8.5-final"
  }
 },
 "nbformat": 4,
 "nbformat_minor": 4
}