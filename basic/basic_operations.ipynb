{
 "cells": [
  {
   "cell_type": "code",
   "execution_count": 2,
   "metadata": {},
   "outputs": [],
   "source": [
    "import numpy as np"
   ]
  },
  {
   "cell_type": "code",
   "execution_count": 4,
   "metadata": {},
   "outputs": [
    {
     "name": "stdout",
     "output_type": "stream",
     "text": [
      "[20 30 40 50]\n",
      "[0 1 2 3]\n"
     ]
    }
   ],
   "source": [
    "a=np.array([20,30,40,50])\n",
    "b=np.arange(4)\n",
    "print(a)\n",
    "print(b)"
   ]
  },
  {
   "cell_type": "code",
   "execution_count": 4,
   "metadata": {},
   "outputs": [
    {
     "name": "stdout",
     "output_type": "stream",
     "text": [
      "[20 29 38 47]\n"
     ]
    }
   ],
   "source": [
    "c=a-b\n",
    "print(c)"
   ]
  },
  {
   "cell_type": "code",
   "execution_count": 15,
   "metadata": {},
   "outputs": [
    {
     "name": "stdout",
     "output_type": "stream",
     "text": [
      "[140 141 142 143]\n",
      "[0 1 4 9]\n"
     ]
    }
   ],
   "source": [
    "d=sum(a,b)\n",
    "print(d)\n",
    "e=b**2\n",
    "print(e)"
   ]
  },
  {
   "cell_type": "code",
   "execution_count": 8,
   "metadata": {},
   "outputs": [
    {
     "name": "stdout",
     "output_type": "stream",
     "text": [
      "[ 9.12945251 -9.88031624  7.4511316  -2.62374854]\n"
     ]
    }
   ],
   "source": [
    "f=10*np.sin(a)\n",
    "print(f)"
   ]
  },
  {
   "cell_type": "code",
   "execution_count": 10,
   "metadata": {},
   "outputs": [
    {
     "name": "stdout",
     "output_type": "stream",
     "text": [
      "[20 30 40 50]\n",
      "[ True  True False False]\n"
     ]
    }
   ],
   "source": [
    "print(a)\n",
    "print(a<35)"
   ]
  },
  {
   "cell_type": "code",
   "execution_count": 11,
   "metadata": {},
   "outputs": [
    {
     "name": "stdout",
     "output_type": "stream",
     "text": [
      "[[2 0]\n",
      " [0 4]]\n"
     ]
    }
   ],
   "source": [
    "A=np.array([[1,1],[0,1]])\n",
    "B=np.array([[2,0],[3,4]])\n",
    "C=A*B                                             # element-wise product\n",
    "print(C)"
   ]
  },
  {
   "cell_type": "code",
   "execution_count": 12,
   "metadata": {},
   "outputs": [
    {
     "name": "stdout",
     "output_type": "stream",
     "text": [
      "[[5 4]\n",
      " [3 4]]\n"
     ]
    }
   ],
   "source": [
    "print(A@B)                       #Matrix product\n"
   ]
  },
  {
   "cell_type": "code",
   "execution_count": 13,
   "metadata": {},
   "outputs": [
    {
     "name": "stdout",
     "output_type": "stream",
     "text": [
      "[[5 4]\n",
      " [3 4]]\n"
     ]
    }
   ],
   "source": [
    "print(A.dot(B))                 # dot product"
   ]
  },
  {
   "cell_type": "code",
   "execution_count": 13,
   "metadata": {},
   "outputs": [
    {
     "output_type": "stream",
     "name": "stdout",
     "text": [
      "[[3 3 3]\n [3 3 3]]\n"
     ]
    }
   ],
   "source": [
    "# some operations such as += and *= act in place to modify an existing array rather than create a new one. \n",
    "\n",
    "rg=np.random.default_rng(1)\n",
    "g=np.ones((2,3),dtype=int)\n",
    "\n",
    "h= rg.random((2,3))\n",
    "g*=3\n",
    "print(g)"
   ]
  },
  {
   "cell_type": "code",
   "execution_count": 14,
   "metadata": {},
   "outputs": [
    {
     "output_type": "stream",
     "name": "stdout",
     "text": [
      "[[3.51182162 3.9504637  3.14415961]\n [3.94864945 3.31183145 3.42332645]]\n"
     ]
    }
   ],
   "source": [
    "h+=g\n",
    "print(h)"
   ]
  },
  {
   "cell_type": "code",
   "execution_count": 26,
   "metadata": {},
   "outputs": [
    {
     "output_type": "stream",
     "name": "stdout",
     "text": [
      "float64\n[0.         3.14159265 6.28318531]\ncomplex128\n[ 1.+0.0000000e+00j -1.+1.2246468e-16j  1.-2.4492936e-16j]\n"
     ]
    }
   ],
   "source": [
    "#UPCASTING\n",
    "from numpy import pi\n",
    "\n",
    "i=np.ones(3,dtype=np.int32)\n",
    "j=np.linspace(0,2*pi,3)\n",
    "print(j.dtype.name)\n",
    "print(j)\n",
    "\n",
    "k=np.exp(j*1j)\n",
    "print(k.dtype.name)\n",
    "print(k)"
   ]
  },
  {
   "cell_type": "code",
   "execution_count": 30,
   "metadata": {},
   "outputs": [
    {
     "output_type": "stream",
     "name": "stdout",
     "text": [
      "[[0.96165719 0.72478994 0.54122686]\n [0.2768912  0.16065201 0.96992541]]\n3.635142616021385\n0.16065200877512686\n0.9699254132161326\n"
     ]
    }
   ],
   "source": [
    "#URINARY OPERATIONS:\n",
    "\n",
    "l=rg.random((2,3))\n",
    "print(l)\n",
    "print(l.sum())\n",
    "print(l.min())\n",
    "print(l.max())"
   ]
  },
  {
   "cell_type": "code",
   "execution_count": 33,
   "metadata": {},
   "outputs": [
    {
     "output_type": "stream",
     "name": "stdout",
     "text": [
      "[[ 0  1  2  3]\n [ 4  5  6  7]\n [ 8  9 10 11]]\n         /////////////////////               \n[12 15 18 21]\n"
     ]
    }
   ],
   "source": [
    "# By specifying the axix parameter you can apply an operation along the specified axis of an array.\n",
    "\n",
    "m=np.arange(12).reshape(3,4)\n",
    "print(m)\n",
    "print(\"         /////////////////////               \")\n",
    "print(m.sum(axis=0))\n"
   ]
  },
  {
   "cell_type": "code",
   "execution_count": null,
   "metadata": {},
   "outputs": [],
   "source": []
  }
 ],
 "metadata": {
  "kernelspec": {
   "display_name": "Python 3",
   "language": "python",
   "name": "python3"
  },
  "language_info": {
   "codemirror_mode": {
    "name": "ipython",
    "version": 3
   },
   "file_extension": ".py",
   "mimetype": "text/x-python",
   "name": "python",
   "nbconvert_exporter": "python",
   "pygments_lexer": "ipython3",
   "version": "3.8.5-final"
  }
 },
 "nbformat": 4,
 "nbformat_minor": 4
}